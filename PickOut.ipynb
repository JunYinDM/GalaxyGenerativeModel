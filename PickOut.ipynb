{
 "cells": [
  {
   "cell_type": "code",
   "execution_count": 4,
   "metadata": {},
   "outputs": [],
   "source": [
    "from __future__ import print_function\n",
    "\n",
    "import matplotlib.pyplot as plt\n",
    "import matplotlib.image as mpimg\n",
    "import numpy as np\n",
    "import torch\n",
    "\n",
    "\n",
    "\n",
    "import os\n",
    "import sys\n",
    "import glob\n",
    "import h5py\n",
    "import numpy as np\n",
    "import math\n",
    "\n",
    "\n",
    "import torch\n",
    "from torch import nn\n",
    "from torch.autograd import Variable\n",
    "from torchvision import transforms\n",
    "from torchvision.utils import save_image\n",
    "from torch.utils.data import Dataset , DataLoader\n",
    "import torch.optim as optim\n",
    "import torch.nn.functional as F\n",
    "import torch.utils.model_zoo as model_zoo\n",
    "from tqdm import tqdm\n",
    "import tensorboard\n",
    "import tensorboardX\n",
    "from torch.utils.tensorboard import SummaryWriter\n",
    "\n",
    "\n",
    "from log import Logger\n",
    "from data import gDataset, trainDataset, testDataset\n",
    "from util import r2, mse, rmse, mae, pp_mse, pp_rmse, pp_mae\n",
    "from model import autoencoder_6\n",
    "from sklearn.decomposition import PCA\n",
    "\n",
    "def showres(path):\n",
    "    img_data_tensor=torch.load(path)\n",
    "    img_data= img_data_tensor[4].numpy()\n",
    "    img_data.resize(56,56)\n",
    "    plt.imshow(img_data)\n",
    "    return img_data"
   ]
  },
  {
   "cell_type": "code",
   "execution_count": 5,
   "metadata": {},
   "outputs": [],
   "source": [
    "if not os.path.exists('./gal_img917'):\n",
    "    os.mkdir('./gal_img917')\n",
    "        \n",
    "def to_img(x):   # image size 56 * 56 \n",
    "    x = x.view(x.size(0), 1, 56, 56)\n",
    "    return x\n",
    "\n",
    "test_dataset = testDataset()\n",
    "test_dataloader= DataLoader(dataset=test_dataset, batch_size=64,shuffle=True)"
   ]
  },
  {
   "cell_type": "code",
   "execution_count": 6,
   "metadata": {},
   "outputs": [
    {
     "name": "stdout",
     "output_type": "stream",
     "text": [
      "finished\n"
     ]
    }
   ],
   "source": [
    "if not os.path.exists('./gal_img917'):\n",
    "    os.mkdir('./gal_img917')\n",
    "    \n",
    "def to_img(x):   # image size 56 * 56 \n",
    "    x = x.view(x.size(0), 1, 56, 56)\n",
    "    return x\n",
    "\n",
    "\n",
    "test_dataset = testDataset()\n",
    "test_dataloader= DataLoader(dataset=test_dataset, batch_size=3000,shuffle=True)\n",
    "\n",
    "\n",
    "model = autoencoder_6().cuda()   ###### AE model \n",
    "model.load_state_dict(torch.load('gal_img917/exp2_sim_autoencoder.pth'))    \n",
    "model.eval()\n",
    "\n",
    "\n",
    "for data in test_dataloader:\n",
    "    test_img = data\n",
    "    test_img = test_img.type(torch.float32)\n",
    "    test_img = test_img.view(test_img.size(0), 1,56,56)\n",
    "    test_img = test_img.cuda()\n",
    "    test_output = model.encoder(test_img)   #latent \n",
    "    \n",
    "a=test_output.data.cpu().numpy()\n",
    "\n",
    "print(\"finished\")"
   ]
  },
  {
   "cell_type": "code",
   "execution_count": 7,
   "metadata": {},
   "outputs": [
    {
     "data": {
      "text/plain": [
       "(3000, 256, 3, 3)"
      ]
     },
     "execution_count": 7,
     "metadata": {},
     "output_type": "execute_result"
    }
   ],
   "source": [
    "a.shape"
   ]
  },
  {
   "cell_type": "code",
   "execution_count": 8,
   "metadata": {},
   "outputs": [],
   "source": [
    "dt_test = a.reshape([3000,-1])"
   ]
  },
  {
   "cell_type": "code",
   "execution_count": 9,
   "metadata": {},
   "outputs": [
    {
     "data": {
      "text/plain": [
       "(3000, 2304)"
      ]
     },
     "execution_count": 9,
     "metadata": {},
     "output_type": "execute_result"
    }
   ],
   "source": [
    "dt_test.shape"
   ]
  },
  {
   "cell_type": "code",
   "execution_count": 10,
   "metadata": {},
   "outputs": [],
   "source": [
    "pca = PCA()"
   ]
  },
  {
   "cell_type": "code",
   "execution_count": 11,
   "metadata": {},
   "outputs": [
    {
     "data": {
      "text/plain": [
       "PCA(copy=True, iterated_power='auto', n_components=None, random_state=None,\n",
       "  svd_solver='auto', tol=0.0, whiten=False)"
      ]
     },
     "execution_count": 11,
     "metadata": {},
     "output_type": "execute_result"
    }
   ],
   "source": [
    "pca.fit(dt_test)"
   ]
  },
  {
   "cell_type": "code",
   "execution_count": 12,
   "metadata": {},
   "outputs": [],
   "source": [
    "evr = pca.explained_variance_ratio_   # "
   ]
  },
  {
   "cell_type": "code",
   "execution_count": 13,
   "metadata": {},
   "outputs": [
    {
     "data": {
      "text/plain": [
       "(2304,)"
      ]
     },
     "execution_count": 13,
     "metadata": {},
     "output_type": "execute_result"
    }
   ],
   "source": [
    "evr.shape"
   ]
  },
  {
   "cell_type": "code",
   "execution_count": 14,
   "metadata": {},
   "outputs": [
    {
     "data": {
      "text/plain": [
       "(array([2.3e+03, 2.0e+00, 0.0e+00, 1.0e+00, 0.0e+00, 0.0e+00, 0.0e+00,\n",
       "        0.0e+00, 0.0e+00, 0.0e+00, 0.0e+00, 0.0e+00, 0.0e+00, 0.0e+00,\n",
       "        0.0e+00, 0.0e+00, 0.0e+00, 0.0e+00, 0.0e+00, 0.0e+00, 0.0e+00,\n",
       "        0.0e+00, 0.0e+00, 0.0e+00, 0.0e+00, 0.0e+00, 0.0e+00, 0.0e+00,\n",
       "        0.0e+00, 0.0e+00, 0.0e+00, 0.0e+00, 0.0e+00, 0.0e+00, 0.0e+00,\n",
       "        0.0e+00, 0.0e+00, 0.0e+00, 0.0e+00, 0.0e+00, 0.0e+00, 0.0e+00,\n",
       "        0.0e+00, 0.0e+00, 0.0e+00, 0.0e+00, 0.0e+00, 0.0e+00, 0.0e+00,\n",
       "        1.0e+00]),\n",
       " array([2.47958132e-20, 1.69676638e-02, 3.39353275e-02, 5.09029913e-02,\n",
       "        6.78706551e-02, 8.48383188e-02, 1.01805983e-01, 1.18773646e-01,\n",
       "        1.35741310e-01, 1.52708974e-01, 1.69676638e-01, 1.86644301e-01,\n",
       "        2.03611965e-01, 2.20579629e-01, 2.37547293e-01, 2.54514956e-01,\n",
       "        2.71482620e-01, 2.88450284e-01, 3.05417948e-01, 3.22385612e-01,\n",
       "        3.39353275e-01, 3.56320939e-01, 3.73288603e-01, 3.90256267e-01,\n",
       "        4.07223930e-01, 4.24191594e-01, 4.41159258e-01, 4.58126922e-01,\n",
       "        4.75094585e-01, 4.92062249e-01, 5.09029913e-01, 5.25997577e-01,\n",
       "        5.42965240e-01, 5.59932904e-01, 5.76900568e-01, 5.93868232e-01,\n",
       "        6.10835896e-01, 6.27803559e-01, 6.44771223e-01, 6.61738887e-01,\n",
       "        6.78706551e-01, 6.95674214e-01, 7.12641878e-01, 7.29609542e-01,\n",
       "        7.46577206e-01, 7.63544869e-01, 7.80512533e-01, 7.97480197e-01,\n",
       "        8.14447861e-01, 8.31415524e-01, 8.48383188e-01]),\n",
       " <a list of 50 Patch objects>)"
      ]
     },
     "execution_count": 14,
     "metadata": {},
     "output_type": "execute_result"
    },
    {
     "data": {
      "image/png": "[encoded data removed]",
      "text/plain": [
       "<Figure size 432x288 with 1 Axes>"
      ]
     },
     "metadata": {
      "needs_background": "light"
     },
     "output_type": "display_data"
    }
   ],
   "source": [
    "plt.hist(evr,bins=50)"
   ]
  },
  {
   "cell_type": "code",
   "execution_count": 15,
   "metadata": {},
   "outputs": [
    {
     "data": {
      "text/plain": [
       "(array([0, 1, 2, 3, 4, 5, 6, 7]),)"
      ]
     },
     "execution_count": 15,
     "metadata": {},
     "output_type": "execute_result"
    }
   ],
   "source": [
    "np.where(evr>0.001)  # >0.1% ,  8 explained variance ratio   "
   ]
  },
  {
   "cell_type": "code",
   "execution_count": 16,
   "metadata": {},
   "outputs": [
    {
     "data": {
      "text/plain": [
       "array([8.4838319e-01, 5.6318186e-02, 2.9335685e-02, 2.4882089e-02,\n",
       "       1.3429905e-02, 8.3653303e-03, 8.1445780e-03, 5.2224700e-03,\n",
       "       7.4223964e-04, 6.5811287e-04, 4.8699259e-04, 4.6093261e-04,\n",
       "       4.1135083e-04, 3.9874326e-04, 3.1048487e-04, 2.5118722e-04,\n",
       "       2.3167400e-04, 1.9156325e-04, 1.6818036e-04, 1.3271009e-04,\n",
       "       1.2276972e-04, 1.0247339e-04, 9.1967886e-05, 7.4464617e-05,\n",
       "       7.1537819e-05, 6.3899293e-05, 5.6171255e-05, 5.1511215e-05,\n",
       "       4.8522590e-05, 4.5002813e-05], dtype=float32)"
      ]
     },
     "execution_count": 16,
     "metadata": {},
     "output_type": "execute_result"
    }
   ],
   "source": [
    "evr[:30]"
   ]
  },
  {
   "cell_type": "code",
   "execution_count": 17,
   "metadata": {},
   "outputs": [],
   "source": [
    "features = pca.components_"
   ]
  },
  {
   "cell_type": "code",
   "execution_count": 18,
   "metadata": {},
   "outputs": [
    {
     "data": {
      "text/plain": [
       "(2304, 2304)"
      ]
     },
     "execution_count": 18,
     "metadata": {},
     "output_type": "execute_result"
    }
   ],
   "source": [
    "features.shape"
   ]
  },
  {
   "cell_type": "code",
   "execution_count": 19,
   "metadata": {},
   "outputs": [
    {
     "data": {
      "text/plain": [
       "(array([1.632e+03, 6.190e+02, 3.200e+01, 1.100e+01, 7.000e+00, 1.000e+00,\n",
       "        0.000e+00, 1.000e+00, 0.000e+00, 1.000e+00]),\n",
       " array([-0.03985946,  0.00417187,  0.04820319,  0.09223451,  0.13626584,\n",
       "         0.18029716,  0.22432848,  0.26835981,  0.31239113,  0.35642245,\n",
       "         0.40045378]),\n",
       " <a list of 10 Patch objects>)"
      ]
     },
     "execution_count": 19,
     "metadata": {},
     "output_type": "execute_result"
    },
    {
     "data": {
      "image/png": "[encoded data removed]",
      "text/plain": [
       "<Figure size 432x288 with 1 Axes>"
      ]
     },
     "metadata": {
      "needs_background": "light"
     },
     "output_type": "display_data"
    }
   ],
   "source": [
    "plt.cla()\n",
    "plt.hist(features[0])"
   ]
  },
  {
   "cell_type": "code",
   "execution_count": 20,
   "metadata": {},
   "outputs": [
    {
     "data": {
      "text/plain": [
       "(array([  85,  175,  337,  445,  742,  886,  967, 1093, 1210, 1211, 1213,\n",
       "        1219, 1237, 1264, 1389, 1393, 1525, 1813, 2173]),)"
      ]
     },
     "execution_count": 20,
     "metadata": {},
     "output_type": "execute_result"
    }
   ],
   "source": [
    "np.where(features[0]>0.1)"
   ]
  },
  {
   "cell_type": "code",
   "execution_count": 21,
   "metadata": {},
   "outputs": [
    {
     "data": {
      "text/plain": [
       "(array([ 210,  211,  214, 1093, 2020]),)"
      ]
     },
     "execution_count": 21,
     "metadata": {},
     "output_type": "execute_result"
    }
   ],
   "source": [
    "np.where(features[1]>0.1)"
   ]
  },
  {
   "cell_type": "code",
   "execution_count": 22,
   "metadata": {},
   "outputs": [
    {
     "data": {
      "text/plain": [
       "(3000, 2304)"
      ]
     },
     "execution_count": 22,
     "metadata": {},
     "output_type": "execute_result"
    }
   ],
   "source": [
    "dt_test.shape"
   ]
  },
  {
   "cell_type": "code",
   "execution_count": 23,
   "metadata": {},
   "outputs": [
    {
     "data": {
      "text/plain": [
       "2"
      ]
     },
     "execution_count": 23,
     "metadata": {},
     "output_type": "execute_result"
    }
   ],
   "source": [
    "1+1"
   ]
  },
  {
   "cell_type": "code",
   "execution_count": 27,
   "metadata": {},
   "outputs": [],
   "source": [
    "M = features"
   ]
  },
  {
   "cell_type": "code",
   "execution_count": 29,
   "metadata": {},
   "outputs": [],
   "source": [
    "important_features = np.einsum('ij,nj->ni',M,dt_test)"
   ]
  },
  {
   "cell_type": "code",
   "execution_count": 30,
   "metadata": {},
   "outputs": [
    {
     "data": {
      "text/plain": [
       "(3000, 2304)"
      ]
     },
     "execution_count": 30,
     "metadata": {},
     "output_type": "execute_result"
    }
   ],
   "source": [
    "important_features.shape"
   ]
  },
  {
   "cell_type": "code",
   "execution_count": 31,
   "metadata": {},
   "outputs": [],
   "source": [
    "mean_feature = np.mean(important_features,axis=0)"
   ]
  },
  {
   "cell_type": "code",
   "execution_count": 32,
   "metadata": {},
   "outputs": [
    {
     "data": {
      "text/plain": [
       "array([ 9.33861   , -5.411754  , -0.7749246 , -0.14450654, -0.11626549,\n",
       "       -2.9997783 , -3.1975448 ,  9.348332  , 11.482885  , -6.304438  ,\n",
       "       -2.6267269 ,  5.818137  , -2.4607403 ,  2.28055   ,  1.7013398 ,\n",
       "       -0.46477637, -3.6245253 , -1.8641428 ,  3.462152  ,  1.6625272 ],\n",
       "      dtype=float32)"
      ]
     },
     "execution_count": 32,
     "metadata": {},
     "output_type": "execute_result"
    }
   ],
   "source": [
    "mean_feature[0:20]"
   ]
  },
  {
   "cell_type": "code",
   "execution_count": 33,
   "metadata": {},
   "outputs": [
    {
     "data": {
      "text/plain": [
       "array([ 0.8833113 , -1.0878564 ,  0.4170324 , -1.0960958 ,  2.2026885 ,\n",
       "        0.5391843 ,  0.12172045, -0.49371484,  0.45867342,  0.45606014,\n",
       "       -0.67410105, -1.0802937 ,  1.7088255 , -0.1474616 ,  0.8286681 ,\n",
       "        1.9677364 , -0.34809586,  0.53247166, -1.3509418 ,  1.7565224 ,\n",
       "        1.0422602 ,  1.0312763 , -0.06802206, -1.9344443 ,  1.3772432 ,\n",
       "       -0.07227071,  1.1127211 , -0.560695  , -0.08070171,  2.0847452 ],\n",
       "      dtype=float32)"
      ]
     },
     "execution_count": 33,
     "metadata": {},
     "output_type": "execute_result"
    }
   ],
   "source": [
    "mean_feature[20:50]"
   ]
  },
  {
   "cell_type": "code",
   "execution_count": 34,
   "metadata": {},
   "outputs": [
    {
     "data": {
      "text/plain": [
       "<Figure size 432x288 with 0 Axes>"
      ]
     },
     "execution_count": 34,
     "metadata": {},
     "output_type": "execute_result"
    },
    {
     "data": {
      "text/plain": [
       "<Figure size 432x288 with 0 Axes>"
      ]
     },
     "metadata": {},
     "output_type": "display_data"
    }
   ],
   "source": [
    "plt.figure()"
   ]
  },
  {
   "cell_type": "code",
   "execution_count": 36,
   "metadata": {},
   "outputs": [
    {
     "data": {
      "text/plain": [
       "(array([1.000e+00, 0.000e+00, 0.000e+00, 1.000e+00, 0.000e+00, 0.000e+00,\n",
       "        0.000e+00, 0.000e+00, 0.000e+00, 0.000e+00, 0.000e+00, 0.000e+00,\n",
       "        0.000e+00, 0.000e+00, 1.000e+00, 1.000e+00, 0.000e+00, 0.000e+00,\n",
       "        1.000e+00, 0.000e+00, 0.000e+00, 2.000e+00, 0.000e+00, 0.000e+00,\n",
       "        1.000e+00, 0.000e+00, 1.000e+00, 1.000e+00, 1.000e+00, 5.000e+00,\n",
       "        2.000e+00, 2.000e+00, 1.000e+00, 2.000e+00, 2.000e+00, 9.000e+00,\n",
       "        9.000e+00, 9.000e+00, 1.200e+01, 3.100e+01, 2.021e+03, 8.100e+01,\n",
       "        2.800e+01, 1.600e+01, 1.000e+01, 7.000e+00, 3.000e+00, 4.000e+00,\n",
       "        1.000e+00, 3.000e+00, 2.000e+00, 4.000e+00, 2.000e+00, 0.000e+00,\n",
       "        1.000e+00, 2.000e+00, 1.000e+00, 2.000e+00, 3.000e+00, 0.000e+00,\n",
       "        1.000e+00, 2.000e+00, 1.000e+00, 2.000e+00, 0.000e+00, 0.000e+00,\n",
       "        0.000e+00, 0.000e+00, 0.000e+00, 0.000e+00, 0.000e+00, 0.000e+00,\n",
       "        0.000e+00, 0.000e+00, 0.000e+00, 0.000e+00, 1.000e+00, 0.000e+00,\n",
       "        0.000e+00, 0.000e+00, 0.000e+00, 0.000e+00, 0.000e+00, 0.000e+00,\n",
       "        0.000e+00, 0.000e+00, 0.000e+00, 0.000e+00, 0.000e+00, 0.000e+00,\n",
       "        0.000e+00, 0.000e+00, 0.000e+00, 0.000e+00, 0.000e+00, 0.000e+00,\n",
       "        0.000e+00, 0.000e+00, 0.000e+00, 1.000e+00]),\n",
       " array([-4.00361681, -3.90539927, -3.80718173, -3.70896419, -3.61074665,\n",
       "        -3.51252911, -3.41431157, -3.31609403, -3.21787649, -3.11965895,\n",
       "        -3.02144141, -2.92322387, -2.82500633, -2.72678879, -2.62857125,\n",
       "        -2.53035371, -2.43213617, -2.33391863, -2.23570109, -2.13748355,\n",
       "        -2.03926601, -1.94104847, -1.84283093, -1.74461339, -1.64639585,\n",
       "        -1.54817832, -1.44996078, -1.35174324, -1.2535257 , -1.15530816,\n",
       "        -1.05709062, -0.95887308, -0.86065554, -0.762438  , -0.66422046,\n",
       "        -0.56600292, -0.46778538, -0.36956784, -0.2713503 , -0.17313276,\n",
       "        -0.07491522,  0.02330232,  0.12151986,  0.2197374 ,  0.31795494,\n",
       "         0.41617248,  0.51439002,  0.61260756,  0.7108251 ,  0.80904264,\n",
       "         0.90726018,  1.00547772,  1.10369526,  1.2019128 ,  1.30013034,\n",
       "         1.39834788,  1.49656542,  1.59478296,  1.6930005 ,  1.79121804,\n",
       "         1.88943558,  1.98765312,  2.08587066,  2.1840882 ,  2.28230574,\n",
       "         2.38052328,  2.47874082,  2.57695836,  2.6751759 ,  2.77339344,\n",
       "         2.87161098,  2.96982852,  3.06804605,  3.16626359,  3.26448113,\n",
       "         3.36269867,  3.46091621,  3.55913375,  3.65735129,  3.75556883,\n",
       "         3.85378637,  3.95200391,  4.05022145,  4.14843899,  4.24665653,\n",
       "         4.34487407,  4.44309161,  4.54130915,  4.63952669,  4.73774423,\n",
       "         4.83596177,  4.93417931,  5.03239685,  5.13061439,  5.22883193,\n",
       "         5.32704947,  5.42526701,  5.52348455,  5.62170209,  5.71991963,\n",
       "         5.81813717]),\n",
       " <a list of 100 Patch objects>)"
      ]
     },
     "execution_count": 36,
     "metadata": {},
     "output_type": "execute_result"
    },
    {
     "data": {
      "image/png": "[encoded data removed]",
      "text/plain": [
       "<Figure size 432x288 with 1 Axes>"
      ]
     },
     "metadata": {
      "needs_background": "light"
     },
     "output_type": "display_data"
    }
   ],
   "source": [
    "plt.hist(mean_feature[10:],bins=100)"
   ]
  },
  {
   "cell_type": "code",
   "execution_count": 37,
   "metadata": {},
   "outputs": [],
   "source": [
    "M_inv = np.linalg.inv(M)"
   ]
  },
  {
   "cell_type": "code",
   "execution_count": 38,
   "metadata": {},
   "outputs": [],
   "source": [
    "feature_0 = important_features[0]"
   ]
  },
  {
   "cell_type": "code",
   "execution_count": 41,
   "metadata": {},
   "outputs": [],
   "source": [
    "feature_new = np.zeros(feature_0.shape)"
   ]
  },
  {
   "cell_type": "code",
   "execution_count": 42,
   "metadata": {},
   "outputs": [],
   "source": [
    "feature_new[0:8] = feature_0[0:8]"
   ]
  },
  {
   "cell_type": "code",
   "execution_count": 43,
   "metadata": {},
   "outputs": [],
   "source": [
    "feature_new[8:] = mean_feature[8:]"
   ]
  },
  {
   "cell_type": "code",
   "execution_count": 44,
   "metadata": {},
   "outputs": [],
   "source": [
    "latent_new = np.matmul(M_inv, feature_new)"
   ]
  },
  {
   "cell_type": "code",
   "execution_count": 45,
   "metadata": {},
   "outputs": [
    {
     "data": {
      "text/plain": [
       "(2304,)"
      ]
     },
     "execution_count": 45,
     "metadata": {},
     "output_type": "execute_result"
    }
   ],
   "source": [
    "latent_new.shape"
   ]
  },
  {
   "cell_type": "code",
   "execution_count": 46,
   "metadata": {},
   "outputs": [],
   "source": [
    "latent_compare = dt_test[0]"
   ]
  },
  {
   "cell_type": "code",
   "execution_count": 89,
   "metadata": {},
   "outputs": [],
   "source": [
    "latent_new = latent_new.reshape([1,256,3,3])"
   ]
  },
  {
   "cell_type": "code",
   "execution_count": 58,
   "metadata": {},
   "outputs": [],
   "source": [
    "latent_compare = latent_compare.reshape([1,256,3,3])\n",
    "\n"
   ]
  },
  {
   "cell_type": "code",
   "execution_count": 54,
   "metadata": {},
   "outputs": [
    {
     "ename": "AttributeError",
     "evalue": "'numpy.ndarray' object has no attribute 'type'",
     "output_type": "error",
     "traceback": [
      "\u001b[0;31m---------------------------------------------------------------------------\u001b[0m",
      "\u001b[0;31mAttributeError\u001b[0m                            Traceback (most recent call last)",
      "\u001b[0;32m<ipython-input-54-007589db2c20>\u001b[0m in \u001b[0;36m<module>\u001b[0;34m\u001b[0m\n\u001b[0;32m----> 1\u001b[0;31m \u001b[0mbb\u001b[0m\u001b[0;34m=\u001b[0m \u001b[0mlatent_compare\u001b[0m\u001b[0;34m.\u001b[0m\u001b[0mtype\u001b[0m\u001b[0;34m(\u001b[0m\u001b[0mtorch\u001b[0m\u001b[0;34m.\u001b[0m\u001b[0mfloat32\u001b[0m\u001b[0;34m)\u001b[0m\u001b[0;34m\u001b[0m\u001b[0;34m\u001b[0m\u001b[0m\n\u001b[0m\u001b[1;32m      2\u001b[0m \u001b[0mbbb\u001b[0m \u001b[0;34m=\u001b[0m \u001b[0mlatent_compare\u001b[0m\u001b[0;34m.\u001b[0m\u001b[0mview\u001b[0m\u001b[0;34m(\u001b[0m\u001b[0mlatent_compare\u001b[0m\u001b[0;34m.\u001b[0m\u001b[0msize\u001b[0m\u001b[0;34m(\u001b[0m\u001b[0;36m0\u001b[0m\u001b[0;34m)\u001b[0m\u001b[0;34m,\u001b[0m \u001b[0;36m256\u001b[0m\u001b[0;34m,\u001b[0m\u001b[0;36m3\u001b[0m\u001b[0;34m,\u001b[0m\u001b[0;36m3\u001b[0m\u001b[0;34m)\u001b[0m\u001b[0;34m\u001b[0m\u001b[0;34m\u001b[0m\u001b[0m\n\u001b[1;32m      3\u001b[0m \u001b[0mbbb\u001b[0m\u001b[0;34m=\u001b[0m \u001b[0mlatent_compare\u001b[0m\u001b[0;34m.\u001b[0m\u001b[0mcuda\u001b[0m\u001b[0;34m(\u001b[0m\u001b[0;34m)\u001b[0m\u001b[0;34m\u001b[0m\u001b[0;34m\u001b[0m\u001b[0m\n",
      "\u001b[0;31mAttributeError\u001b[0m: 'numpy.ndarray' object has no attribute 'type'"
     ]
    }
   ],
   "source": [
    "bbb= latent_compare.type(torch.float32)\n",
    "bbb = latent_compare.view(latent_compare.size(0), 256,3,3)\n",
    "bbb= latent_compare.cuda()"
   ]
  },
  {
   "cell_type": "code",
   "execution_count": 92,
   "metadata": {},
   "outputs": [],
   "source": [
    "device = torch.device(\"cuda:0\" if torch.cuda.is_available() else \"cpu\")\n",
    "latent_compare_tensor = torch.from_numpy(latent_compare).float().to(device)\n",
    "latent_new_tensor = torch.from_numpy(latent_compare).float().to(device)"
   ]
  },
  {
   "cell_type": "code",
   "execution_count": null,
   "metadata": {},
   "outputs": [],
   "source": []
  },
  {
   "cell_type": "code",
   "execution_count": null,
   "metadata": {},
   "outputs": [],
   "source": []
  },
  {
   "cell_type": "code",
   "execution_count": 94,
   "metadata": {},
   "outputs": [
    {
     "data": {
      "text/plain": [
       "<matplotlib.image.AxesImage at 0x7f5370bb8518>"
      ]
     },
     "execution_count": 94,
     "metadata": {},
     "output_type": "execute_result"
    },
    {
     "data": {
      "image/png": "[encoded data removed]",
      "text/plain": [
       "<Figure size 432x288 with 1 Axes>"
      ]
     },
     "metadata": {
      "needs_background": "light"
     },
     "output_type": "display_data"
    }
   ],
   "source": [
    "img_compare = model.decoder(latent_compare_tensor)\n",
    "img_new = model.decoder(latent_new_tensor)\n",
    "\n",
    "img_new_n=img_new.reshape([56,56])\n",
    "\n",
    "img_new_np=(img_new_n.data).cpu().numpy()\n",
    "plt.imshow(img_new_np)"
   ]
  },
  {
   "cell_type": "code",
   "execution_count": 61,
   "metadata": {},
   "outputs": [
    {
     "data": {
      "text/plain": [
       "<Figure size 432x288 with 0 Axes>"
      ]
     },
     "execution_count": 61,
     "metadata": {},
     "output_type": "execute_result"
    },
    {
     "data": {
      "text/plain": [
       "<Figure size 432x288 with 0 Axes>"
      ]
     },
     "metadata": {},
     "output_type": "display_data"
    }
   ],
   "source": [
    "plt.figure()"
   ]
  },
  {
   "cell_type": "code",
   "execution_count": 68,
   "metadata": {},
   "outputs": [],
   "source": [
    "img0 = torch.Tensor.cpu(img_compare)"
   ]
  },
  {
   "cell_type": "code",
   "execution_count": 79,
   "metadata": {},
   "outputs": [
    {
     "data": {
      "text/plain": [
       "<function Tensor.type>"
      ]
     },
     "execution_count": 79,
     "metadata": {},
     "output_type": "execute_result"
    }
   ],
   "source": [
    "img0.type"
   ]
  },
  {
   "cell_type": "code",
   "execution_count": 81,
   "metadata": {},
   "outputs": [
    {
     "data": {
      "text/plain": [
       "torch.Size([1, 1, 56, 56])"
      ]
     },
     "execution_count": 81,
     "metadata": {},
     "output_type": "execute_result"
    }
   ],
   "source": [
    "img0.shape"
   ]
  },
  {
   "cell_type": "code",
   "execution_count": 82,
   "metadata": {},
   "outputs": [],
   "source": [
    "c=img0.reshape([56,56])"
   ]
  },
  {
   "cell_type": "code",
   "execution_count": 85,
   "metadata": {},
   "outputs": [],
   "source": [
    "cc= (c.data).cpu().numpy()"
   ]
  },
  {
   "cell_type": "code",
   "execution_count": 87,
   "metadata": {},
   "outputs": [
    {
     "data": {
      "text/plain": [
       "(56, 56)"
      ]
     },
     "execution_count": 87,
     "metadata": {},
     "output_type": "execute_result"
    }
   ],
   "source": [
    "cc.shape"
   ]
  },
  {
   "cell_type": "code",
   "execution_count": 88,
   "metadata": {},
   "outputs": [
    {
     "data": {
      "text/plain": [
       "<matplotlib.image.AxesImage at 0x7f5370bd9048>"
      ]
     },
     "execution_count": 88,
     "metadata": {},
     "output_type": "execute_result"
    },
    {
     "data": {
      "image/png": "[encoded data removed]",
      "text/plain": [
       "<Figure size 432x288 with 1 Axes>"
      ]
     },
     "metadata": {
      "needs_background": "light"
     },
     "output_type": "display_data"
    }
   ],
   "source": [
    "plt.imshow(cc)"
   ]
  },
  {
   "cell_type": "code",
   "execution_count": 74,
   "metadata": {},
   "outputs": [],
   "source": [
    "cc=img0.detach()"
   ]
  },
  {
   "cell_type": "code",
   "execution_count": 78,
   "metadata": {},
   "outputs": [
    {
     "data": {
      "text/plain": [
       "<function Tensor.type>"
      ]
     },
     "execution_count": 78,
     "metadata": {},
     "output_type": "execute_result"
    }
   ],
   "source": [
    "cc.type"
   ]
  },
  {
   "cell_type": "code",
   "execution_count": null,
   "metadata": {},
   "outputs": [],
   "source": []
  },
  {
   "cell_type": "code",
   "execution_count": null,
   "metadata": {},
   "outputs": [],
   "source": []
  },
  {
   "cell_type": "code",
   "execution_count": 71,
   "metadata": {},
   "outputs": [
    {
     "data": {
      "text/plain": [
       "torch.Size([1, 1, 56, 56])"
      ]
     },
     "execution_count": 71,
     "metadata": {},
     "output_type": "execute_result"
    }
   ],
   "source": [
    "img_compare.shape"
   ]
  },
  {
   "cell_type": "code",
   "execution_count": null,
   "metadata": {},
   "outputs": [],
   "source": []
  }
 ],
 "metadata": {
  "kernelspec": {
   "display_name": "Python 3",
   "language": "python",
   "name": "python3"
  },
  "language_info": {
   "codemirror_mode": {
    "name": "ipython",
    "version": 3
   },
   "file_extension": ".py",
   "mimetype": "text/x-python",
   "name": "python",
   "nbconvert_exporter": "python",
   "pygments_lexer": "ipython3",
   "version": "3.6.8"
  }
 },
 "nbformat": 4,
 "nbformat_minor": 2
}
