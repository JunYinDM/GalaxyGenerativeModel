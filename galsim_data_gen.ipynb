{
 "cells": [
  {
   "cell_type": "code",
   "execution_count": 72,
   "metadata": {},
   "outputs": [],
   "source": [
    "import sys\n",
    "import os\n",
    "import math\n",
    "import logging\n",
    "import galsim\n",
    "import matplotlib.pyplot as plt\n",
    "\n",
    "import numpy as np \n",
    "import random \n",
    "\n",
    "logging.basicConfig(format=\"%(message)s\", level=logging.INFO, stream=sys.stdout)\n",
    "logger = logging.getLogger(\"demo1\")"
   ]
  },
  {
   "cell_type": "code",
   "execution_count": 176,
   "metadata": {},
   "outputs": [
    {
     "name": "stdout",
     "output_type": "stream",
     "text": [
      "gal_flux= 2689595.0877640517\n",
      " bulge_re 1.65913994826644\n",
      " disk_n 1.4891412652130673\n",
      "  disk_r0 0.9496458422661797\n",
      "  bulge_frac 0.2586735585755918\n",
      " gal_q 0.7695888271429964\n",
      " gal_beta 162.21762752897465\n",
      " atmos_e 0.11437181755548442\n",
      " atmos_beta 2.1513794848775345\n",
      "wcs_g1= -0.28766983522727696\n",
      "wcs_g2= 0.04140521114900222\n"
     ]
    },
    {
     "data": {
      "image/png": "[encoded data removed]",
      "text/plain": [
       "<Figure size 432x288 with 2 Axes>"
      ]
     },
     "metadata": {
      "needs_background": "light"
     },
     "output_type": "display_data"
    }
   ],
   "source": [
    "    # fixed parameters \n",
    "    image_size = 64        # n x n pixels\n",
    "    pixel_scale = 0.23     # arcsec / pixel\n",
    "    random_seed = 1314662\n",
    "    rng = galsim.BaseDeviate(random_seed+1)\n",
    "    bulge_n = 3.5          # Fixed \n",
    "    atmos_fwhm=2.1         # arcsec\n",
    "    psf_sigma = 1    # arcsec   fixed here \n",
    "    \n",
    "    \n",
    "    #parameter random generations  \n",
    "    gal_flux = 1e6* random.uniform(1,100)        # ADU  (\"Analog-to-digital units\", the units of the numbers on a CCD)\n",
    "    bulge_re = random.uniform(0,3)         # arcsec\n",
    "    disk_n = random.uniform(1,2)          #\n",
    "    disk_r0 = random.uniform(0,1)        # arcsec (corresponds to half_light_radius of ~3.7 arcsec)\n",
    "    bulge_frac = random.uniform(0,1)    # 0 ~ 1 \n",
    "\n",
    "    \n",
    "    gal_q = random.uniform(0.1,0.8)       # (axis ratio 0 < q < 1)\n",
    "    gal_beta = random.uniform(0,180)        # degrees (position angle on the sky)\n",
    "    atmos_e = random.uniform(0,1)         #\n",
    "    atmos_beta = random.uniform(0,3.14)       # radians\n",
    "\n",
    "    wcs_g1 = -random.uniform(0,0.3)      # -0.3 ~ 0  \n",
    "    wcs_g2 = random.uniform(0,0.3)   #  0 ~ 0.3  \n",
    "    \n",
    "    \n",
    "    \n",
    "    bulge = galsim.Sersic(bulge_n, half_light_radius=bulge_re)\n",
    "    disk = galsim.Sersic(disk_n, scale_radius=disk_r0)\n",
    "    gal = bulge_frac * bulge + (1-bulge_frac) * disk\n",
    "    gal = gal.withFlux(gal_flux)\n",
    "    gal_shape = galsim.Shear(q=gal_q, beta=gal_beta*galsim.degrees)\n",
    "    gal = gal.shear(gal_shape)\n",
    "    atmos = galsim.Kolmogorov(fwhm=atmos_fwhm)\n",
    "    atmos = atmos.shear(e=atmos_e, beta=atmos_beta*galsim.radians)\n",
    "    wcs = galsim.ShearWCS(scale=pixel_scale, shear=galsim.Shear(g1=wcs_g1, g2=wcs_g2))\n",
    "    psf_gaussian = galsim.Gaussian(flux=1., sigma=psf_sigma) # PSF flux should always = 1\n",
    "    psf = galsim.Convolve([atmos,  psf_gaussian ])\n",
    "    final = galsim.Convolve([psf, gal])\n",
    "    image = galsim.ImageF(image_size, image_size)\n",
    "    final.drawImage(image=image, wcs=wcs)\n",
    "\n",
    "    plt.imshow(image.array)\n",
    "    plt.colorbar()\n",
    "    \n",
    "    \n",
    "    \n",
    "    print(\"gal_flux=\",gal_flux)\n",
    "    print(\" bulge_re\", bulge_re)\n",
    "    print(\" disk_n\",disk_n )\n",
    "    print(\"  disk_r0\",  disk_r0)\n",
    "    print(\"  bulge_frac\",  bulge_frac)\n",
    "    print(\" gal_q\", gal_q)\n",
    "    print(\" gal_beta\", gal_beta)\n",
    "    print(\" atmos_e\", atmos_e)\n",
    "    print(\" atmos_beta\", atmos_beta)\n",
    "    print(\"wcs_g1=\",wcs_g1)\n",
    "    print(\"wcs_g2=\",wcs_g2)\n",
    "    \n",
    "    \n"
   ]
  }
 ],
 "metadata": {
  "kernelspec": {
   "display_name": "Python 3",
   "language": "python",
   "name": "python3"
  },
  "language_info": {
   "codemirror_mode": {
    "name": "ipython",
    "version": 3
   },
   "file_extension": ".py",
   "mimetype": "text/x-python",
   "name": "python",
   "nbconvert_exporter": "python",
   "pygments_lexer": "ipython3",
   "version": "3.6.8"
  }
 },
 "nbformat": 4,
 "nbformat_minor": 2
}
