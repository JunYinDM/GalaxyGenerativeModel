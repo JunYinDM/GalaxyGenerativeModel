{
 "cells": [
  {
   "cell_type": "code",
   "execution_count": 93,
   "metadata": {},
   "outputs": [],
   "source": [
    "from __future__ import print_function\n",
    "\n",
    "import matplotlib.pyplot as plt\n",
    "import matplotlib.image as mpimg\n",
    "import numpy as np\n",
    "import torch\n",
    "\n",
    "\n",
    "\n",
    "import os\n",
    "import sys\n",
    "import glob\n",
    "import h5py\n",
    "import numpy as np\n",
    "import math\n",
    "\n",
    "\n",
    "import torch\n",
    "from torch import nn\n",
    "from torch.autograd import Variable\n",
    "from torchvision import transforms\n",
    "from torchvision.utils import save_image\n",
    "from torch.utils.data import Dataset , DataLoader\n",
    "import torch.optim as optim\n",
    "import torch.nn.functional as F\n",
    "import torch.utils.model_zoo as model_zoo\n",
    "from tqdm import tqdm\n",
    "import tensorboard\n",
    "import tensorboardX\n",
    "from torch.utils.tensorboard import SummaryWriter\n",
    "\n",
    "\n",
    "from log import Logger\n",
    "from data import gDataset, trainDataset, testDataset\n",
    "from util import r2, mse, rmse, mae, pp_mse, pp_rmse, pp_mae\n",
    "from model import autoencoder_6\n",
    "from sklearn.decomposition import PCA\n",
    "device = torch.device(\"cuda:0\" if torch.cuda.is_available() else \"cpu\")\n",
    "\n",
    "\n",
    "def showres(path):\n",
    "    img_data_tensor=torch.load(path)\n",
    "    img_data= img_data_tensor[4].numpy()\n",
    "    img_data.resize(56,56)\n",
    "    plt.imshow(img_data)\n",
    "    return img_data"
   ]
  },
  {
   "cell_type": "code",
   "execution_count": 94,
   "metadata": {},
   "outputs": [
    {
     "name": "stdout",
     "output_type": "stream",
     "text": [
      "finished\n"
     ]
    }
   ],
   "source": [
    "if not os.path.exists('./gal_img917'):\n",
    "    os.mkdir('./gal_img917')\n",
    "    \n",
    "def to_img(x):   # image size 56 * 56 \n",
    "    x = x.view(x.size(0), 1, 56, 56)\n",
    "    return x\n",
    "\n",
    "\n",
    "test_dataset = testDataset()\n",
    "test_dataloader= DataLoader(dataset=test_dataset, batch_size=3000,shuffle=True)\n",
    "\n",
    "\n",
    "model = autoencoder_6().cuda()   ###### AE model \n",
    "model.load_state_dict(torch.load('gal_img917/exp2_sim_autoencoder.pth'))    \n",
    "model.eval()\n",
    "\n",
    "\n",
    "for data in test_dataloader:\n",
    "    test_img = data\n",
    "    test_img = test_img.type(torch.float32)\n",
    "    test_img = test_img.view(test_img.size(0), 1,56,56)\n",
    "    test_img = test_img.cuda()\n",
    "    test_output = model.encoder(test_img)   #latent \n",
    "    \n",
    "a=test_output.data.cpu().numpy()\n",
    "\n",
    "print(\"finished\")"
   ]
  },
  {
   "cell_type": "code",
   "execution_count": 109,
   "metadata": {},
   "outputs": [],
   "source": [
    "orig0=((test_img[0].reshape([56,56])).data).cpu().numpy()\n",
    "\n",
    "#plt.imshow(orig0)"
   ]
  },
  {
   "cell_type": "code",
   "execution_count": 96,
   "metadata": {},
   "outputs": [
    {
     "data": {
      "text/plain": [
       "(2304,)"
      ]
     },
     "execution_count": 96,
     "metadata": {},
     "output_type": "execute_result"
    }
   ],
   "source": [
    "dt_test = a.reshape([3000,-1])\n",
    "pca = PCA()\n",
    "pca.fit(dt_test)\n",
    "evr = pca.explained_variance_ratio_   # \n",
    "evr.shape\n"
   ]
  },
  {
   "cell_type": "code",
   "execution_count": 97,
   "metadata": {},
   "outputs": [],
   "source": [
    "features = pca.components_"
   ]
  },
  {
   "cell_type": "code",
   "execution_count": 98,
   "metadata": {},
   "outputs": [
    {
     "data": {
      "text/plain": [
       "(array([0, 1, 2, 3, 4, 5, 6, 7]),)"
      ]
     },
     "execution_count": 98,
     "metadata": {},
     "output_type": "execute_result"
    }
   ],
   "source": [
    "np.where(evr>0.001)  # >0.1% ,  8 important factors picked out by pca "
   ]
  },
  {
   "cell_type": "code",
   "execution_count": 99,
   "metadata": {},
   "outputs": [],
   "source": [
    "M = features"
   ]
  },
  {
   "cell_type": "code",
   "execution_count": 100,
   "metadata": {},
   "outputs": [],
   "source": [
    "important_features = np.einsum('ij,nj->ni',M,dt_test)\n",
    "mean_feature = np.mean(important_features,axis=0)\n",
    "M_inv = np.linalg.inv(M)\n",
    "feature_0 = important_features[0]"
   ]
  },
  {
   "cell_type": "code",
   "execution_count": 101,
   "metadata": {},
   "outputs": [],
   "source": [
    "feature_new = np.zeros(feature_0.shape)\n",
    "feature_new[0:8] = feature_0[0:8]\n",
    "feature_new[8:] = mean_feature[8:]\n",
    "latent_new = np.matmul(M_inv, feature_new)\n",
    "latent_compare = dt_test[0]\n",
    "latent_new = latent_new.reshape([1,256,3,3])\n",
    "latent_compare = latent_compare.reshape([1,256,3,3])\n"
   ]
  },
  {
   "cell_type": "code",
   "execution_count": 102,
   "metadata": {},
   "outputs": [],
   "source": [
    "latent_compare_tensor = torch.from_numpy(latent_compare).float().to(device)\n",
    "latent_new_tensor = torch.from_numpy(latent_compare).float().to(device)"
   ]
  },
  {
   "cell_type": "code",
   "execution_count": 108,
   "metadata": {},
   "outputs": [],
   "source": [
    "img_compare = model.decoder(latent_compare_tensor)\n",
    "img_new = model.decoder(latent_new_tensor)\n",
    "\n",
    "img_new_n=img_new.reshape([56,56])\n",
    "\n",
    "img_new_np=(img_new_n.data).cpu().numpy()\n",
    "#plt.imshow(img_new_np)"
   ]
  },
  {
   "cell_type": "code",
   "execution_count": 104,
   "metadata": {},
   "outputs": [],
   "source": [
    "img0 = torch.Tensor.cpu(img_compare)"
   ]
  },
  {
   "cell_type": "code",
   "execution_count": 106,
   "metadata": {},
   "outputs": [
    {
     "data": {
      "text/plain": [
       "Text(0.5, 1.0, 'decoded with 8 important factors picked out by PCA')"
      ]
     },
     "execution_count": 106,
     "metadata": {},
     "output_type": "execute_result"
    },
    {
     "data": {
      "image/png": "[encoded data removed]",
      "text/plain": [
       "<Figure size 864x720 with 3 Axes>"
      ]
     },
     "metadata": {
      "needs_background": "light"
     },
     "output_type": "display_data"
    }
   ],
   "source": [
    "plt.figure(figsize=(12,10))\n",
    "plt.subplot(331)\n",
    "plt.imshow(orig0)\n",
    "plt.title('original;')\n",
    "plt.subplot(332)\n",
    "plt.imshow(cc)\n",
    "plt.title('decoded from original;')\n",
    "plt.subplot(333)\n",
    "plt.imshow(img_new_np)\n",
    "plt.title('decoded with 8 important factors picked out by PCA')"
   ]
  },
  {
   "cell_type": "code",
   "execution_count": 107,
   "metadata": {},
   "outputs": [
    {
     "data": {
      "text/plain": [
       "<matplotlib.image.AxesImage at 0x7efbdcfd1f60>"
      ]
     },
     "execution_count": 107,
     "metadata": {},
     "output_type": "execute_result"
    },
    {
     "data": {
      "image/png": "[encoded data removed]",
      "text/plain": [
       "<Figure size 432x288 with 2 Axes>"
      ]
     },
     "metadata": {
      "needs_background": "light"
     },
     "output_type": "display_data"
    }
   ],
   "source": [
    "plt.subplot(1, 2, 1)\n",
    "plt.imshow(orig0 - cc)\n",
    "#plt.title('difference btw original image and decoded image ')\n",
    "\n",
    "plt.subplot(1, 2, 2)\n",
    "plt.imshow(orig0-img_new_np)\n",
    "#plt.title('difference btw original image and decoded image with 8 important factors picked out by PC')\n"
   ]
  },
  {
   "cell_type": "code",
   "execution_count": null,
   "metadata": {},
   "outputs": [],
   "source": []
  },
  {
   "cell_type": "code",
   "execution_count": null,
   "metadata": {},
   "outputs": [],
   "source": []
  },
  {
   "cell_type": "code",
   "execution_count": null,
   "metadata": {},
   "outputs": [],
   "source": []
  }
 ],
 "metadata": {
  "kernelspec": {
   "display_name": "Python 3",
   "language": "python",
   "name": "python3"
  },
  "language_info": {
   "codemirror_mode": {
    "name": "ipython",
    "version": 3
   },
   "file_extension": ".py",
   "mimetype": "text/x-python",
   "name": "python",
   "nbconvert_exporter": "python",
   "pygments_lexer": "ipython3",
   "version": "3.6.8"
  }
 },
 "nbformat": 4,
 "nbformat_minor": 2
}
