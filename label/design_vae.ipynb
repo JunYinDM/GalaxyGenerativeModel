{
 "cells": [
  {
   "cell_type": "code",
   "execution_count": 1,
   "metadata": {},
   "outputs": [],
   "source": [
    "from __future__ import print_function\n",
    "\n",
    "import os\n",
    "import sys\n",
    "import glob\n",
    "import h5py\n",
    "import numpy as np\n",
    "import math\n",
    "\n",
    "\n",
    "import torch\n",
    "from torch import nn\n",
    "from torch.autograd import Variable\n",
    "from torchvision import transforms\n",
    "from torchvision.utils import save_image\n",
    "from torch.utils.data import Dataset , DataLoader\n",
    "import torch.optim as optim\n",
    "import torch.nn.functional as F\n",
    "from tqdm import tqdm\n",
    "import matplotlib.pyplot as plt\n",
    "\n",
    "import tensorboard\n",
    "import tensorboardX\n",
    "from torch.utils.tensorboard import SummaryWriter\n",
    "\n",
    "\n",
    "from log import Logger\n",
    "from data import  trainDataset, testDataset, trainlabelDataset,testlabelDataset\n",
    "from util import r2, mse, rmse, mae, pp_mse, pp_rmse, pp_mae\n",
    "from model import autoencoder_999, autoencoder_333\n",
    "\n",
    "def to_img(x):   # image size \n",
    "    x = x.view(x.size(0), 1, 64, 64)\n",
    "    return x"
   ]
  },
  {
   "cell_type": "code",
   "execution_count": 2,
   "metadata": {},
   "outputs": [],
   "source": [
    "class vae_501(nn.Module):   # \n",
    "    def __init__(self):            #  1x 64 x 64 \n",
    "        \n",
    "        super(vae_501, self).__init__()\n",
    "        \n",
    "        self.fc11 = nn.Linear(14*14, 14)\n",
    "        self.fc12 = nn.Linear(14*14, 14)\n",
    "\n",
    "        self.fc21 = nn.Linear(14, 14*14)\n",
    "        \n",
    "        self.enc = nn.Sequential(\n",
    "            nn.Conv2d(1, 64, 3, stride=1, padding=1),  # 64 * 64 * 64  \n",
    "            nn.BatchNorm2d(64), \n",
    "            nn.ReLU(True),\n",
    "            nn.MaxPool2d(2, stride=2),   # 64 * 31 * 31 \n",
    "            \n",
    "            nn.Conv2d(64, 128, 3, stride=2, padding=1),  # 128 *16 * 16 \n",
    "            nn.ReLU(True),\n",
    "            nn.BatchNorm2d(128), \n",
    "            nn.MaxPool2d(2, stride=1),  # 128 * 15 * 15 \n",
    "            \n",
    "            nn.Conv2d(128, 64, 3, stride=1, padding=1),  # b,  * 15 * 15 \n",
    "            nn.ReLU(True),\n",
    "            nn.BatchNorm2d(64), \n",
    "            nn.MaxPool2d(2, stride=1),  # b, 256, 14, 14 \n",
    "            \n",
    "            nn.Conv2d(64, 1, 3, stride=1, padding=1),  # b, 1  x 14, 14 \n",
    "            nn.BatchNorm2d(1), \n",
    "            nn.ReLU(True)\n",
    "        )\n",
    "        self.dec = nn.Sequential(\n",
    "            nn.ConvTranspose2d(1, 64, 3, stride=2),  # b, 2,  \n",
    "            nn.BatchNorm2d(64), \n",
    "            nn.ReLU(True),\n",
    "            nn.ConvTranspose2d(64, 128, 3, stride=2),  # b, 8, 55, 55 \n",
    "            nn.BatchNorm2d(128), \n",
    "            nn.ReLU(True),\n",
    "            nn.ConvTranspose2d(128, 64, 3, stride=1),  # b, 16, \n",
    "            nn.BatchNorm2d(64), \n",
    "            nn.ReLU(True),\n",
    "            nn.ConvTranspose2d(64, 1, 4, stride=1),  # b, 1,  64 x 64 \n",
    "        )\n",
    "\n",
    "        \n",
    "        \n",
    "    def encoder(self, x):\n",
    "        h1=self.enc(x)\n",
    "      #  print(\"h1\", h1.shape)\n",
    "        h2=h1.view(-1,14*14)\n",
    "        \n",
    "        return  self.fc11(h2), self.fc12(h2)\n",
    "        \n",
    "    def reparametrize(self, mu, logvar):  # mu, sigma --> mu + sigma * N(0,1)\n",
    "        std = logvar.mul(0.5).exp_()\n",
    "        if torch.cuda.is_available():\n",
    "            eps = torch.cuda.FloatTensor(std.size()).normal_()\n",
    "        else:\n",
    "            eps = torch.FloatTensor(std.size()).normal_()\n",
    "        eps = Variable(eps)\n",
    "        return eps.mul(std).add_(mu)\n",
    "    \n",
    "        \n",
    "        \n",
    "    def decoder (self, z):\n",
    "        \n",
    "        h3= self.fc21(z)\n",
    "        h4=h3.view(-1,1,14,14)\n",
    "\n",
    "        return self.dec(h4)\n",
    "    \n",
    "    def forward(self, x):\n",
    "        mu, logvar = self.encoder(x)\n",
    "        z = self.reparametrize(mu, logvar)\n",
    "        return self.decoder(z), mu, logvar\n",
    "    \n",
    "    \n",
    "    \n",
    "    \n",
    "    "
   ]
  },
  {
   "cell_type": "markdown",
   "metadata": {},
   "source": [
    "# check model, make sure the output dims are correct "
   ]
  },
  {
   "cell_type": "code",
   "execution_count": 3,
   "metadata": {},
   "outputs": [],
   "source": [
    "vae = vae_501().cuda()"
   ]
  },
  {
   "cell_type": "code",
   "execution_count": 4,
   "metadata": {},
   "outputs": [],
   "source": [
    "a = torch.randn(2, 1, 64, 64).cuda()"
   ]
  },
  {
   "cell_type": "code",
   "execution_count": 5,
   "metadata": {},
   "outputs": [],
   "source": [
    "b = vae(a)"
   ]
  },
  {
   "cell_type": "code",
   "execution_count": 6,
   "metadata": {},
   "outputs": [
    {
     "data": {
      "text/plain": [
       "torch.Size([2, 14])"
      ]
     },
     "execution_count": 6,
     "metadata": {},
     "output_type": "execute_result"
    }
   ],
   "source": [
    "b[2].size()"
   ]
  },
  {
   "cell_type": "code",
   "execution_count": 10,
   "metadata": {},
   "outputs": [
    {
     "ename": "RuntimeError",
     "evalue": "The size of tensor a (64) must match the size of tensor b (16) at non-singleton dimension 3",
     "output_type": "error",
     "traceback": [
      "\u001b[0;31m---------------------------------------------------------------------------\u001b[0m",
      "\u001b[0;31mRuntimeError\u001b[0m                              Traceback (most recent call last)",
      "\u001b[0;32m<ipython-input-10-a4226273bbc0>\u001b[0m in \u001b[0;36m<module>\u001b[0;34m\u001b[0m\n\u001b[1;32m     62\u001b[0m         \u001b[0;31m# forward\u001b[0m\u001b[0;34m\u001b[0m\u001b[0;34m\u001b[0m\u001b[0;34m\u001b[0m\u001b[0m\n\u001b[1;32m     63\u001b[0m         \u001b[0moutput\u001b[0m\u001b[0;34m,\u001b[0m \u001b[0mmu\u001b[0m\u001b[0;34m,\u001b[0m \u001b[0mlogvar\u001b[0m \u001b[0;34m=\u001b[0m \u001b[0mmodel\u001b[0m\u001b[0;34m(\u001b[0m\u001b[0mimg\u001b[0m\u001b[0;34m)\u001b[0m\u001b[0;34m\u001b[0m\u001b[0;34m\u001b[0m\u001b[0m\n\u001b[0;32m---> 64\u001b[0;31m         \u001b[0mloss\u001b[0m \u001b[0;34m=\u001b[0m \u001b[0mloss_function\u001b[0m\u001b[0;34m(\u001b[0m\u001b[0moutput\u001b[0m\u001b[0;34m,\u001b[0m \u001b[0mimg\u001b[0m\u001b[0;34m,\u001b[0m \u001b[0mmu\u001b[0m\u001b[0;34m,\u001b[0m \u001b[0mlogvar\u001b[0m\u001b[0;34m)\u001b[0m\u001b[0;34m\u001b[0m\u001b[0;34m\u001b[0m\u001b[0m\n\u001b[0m\u001b[1;32m     65\u001b[0m \u001b[0;34m\u001b[0m\u001b[0m\n\u001b[1;32m     66\u001b[0m \u001b[0;34m\u001b[0m\u001b[0m\n",
      "\u001b[0;32m<ipython-input-10-a4226273bbc0>\u001b[0m in \u001b[0;36mloss_function\u001b[0;34m(recon_x, x, mu, logvar)\u001b[0m\n\u001b[1;32m     31\u001b[0m     \u001b[0mlogvar\u001b[0m\u001b[0;34m:\u001b[0m \u001b[0mlatent\u001b[0m \u001b[0mlog\u001b[0m \u001b[0mvariance\u001b[0m\u001b[0;34m\u001b[0m\u001b[0;34m\u001b[0m\u001b[0m\n\u001b[1;32m     32\u001b[0m     \"\"\"\n\u001b[0;32m---> 33\u001b[0;31m     \u001b[0mREC\u001b[0m \u001b[0;34m=\u001b[0m \u001b[0;34m(\u001b[0m\u001b[0mcriterion_none\u001b[0m\u001b[0;34m(\u001b[0m\u001b[0mrecon_x\u001b[0m\u001b[0;34m,\u001b[0m \u001b[0mx\u001b[0m\u001b[0;34m)\u001b[0m \u001b[0;34m/\u001b[0m\u001b[0;34m(\u001b[0m\u001b[0mx\u001b[0m\u001b[0;34m.\u001b[0m\u001b[0msum\u001b[0m\u001b[0;34m(\u001b[0m\u001b[0mdim\u001b[0m\u001b[0;34m=\u001b[0m\u001b[0;36m3\u001b[0m\u001b[0;34m)\u001b[0m\u001b[0;34m.\u001b[0m\u001b[0msum\u001b[0m\u001b[0;34m(\u001b[0m\u001b[0mdim\u001b[0m\u001b[0;34m=\u001b[0m\u001b[0;36m2\u001b[0m\u001b[0;34m)\u001b[0m\u001b[0;34m.\u001b[0m\u001b[0msum\u001b[0m\u001b[0;34m(\u001b[0m\u001b[0mdim\u001b[0m\u001b[0;34m=\u001b[0m\u001b[0;36m1\u001b[0m\u001b[0;34m)\u001b[0m\u001b[0;34m)\u001b[0m\u001b[0;34m)\u001b[0m\u001b[0;34m.\u001b[0m\u001b[0mmean\u001b[0m\u001b[0;34m(\u001b[0m\u001b[0;34m)\u001b[0m\u001b[0;34m\u001b[0m\u001b[0;34m\u001b[0m\u001b[0m\n\u001b[0m\u001b[1;32m     34\u001b[0m     \u001b[0;31m# loss = 0.5 * sum(1 + log(sigma^2) - mu^2 - sigma^2)\u001b[0m\u001b[0;34m\u001b[0m\u001b[0;34m\u001b[0m\u001b[0;34m\u001b[0m\u001b[0m\n\u001b[1;32m     35\u001b[0m     \u001b[0mKLD_element\u001b[0m \u001b[0;34m=\u001b[0m \u001b[0mmu\u001b[0m\u001b[0;34m.\u001b[0m\u001b[0mpow\u001b[0m\u001b[0;34m(\u001b[0m\u001b[0;36m2\u001b[0m\u001b[0;34m)\u001b[0m\u001b[0;34m.\u001b[0m\u001b[0madd_\u001b[0m\u001b[0;34m(\u001b[0m\u001b[0mlogvar\u001b[0m\u001b[0;34m.\u001b[0m\u001b[0mexp\u001b[0m\u001b[0;34m(\u001b[0m\u001b[0;34m)\u001b[0m\u001b[0;34m)\u001b[0m\u001b[0;34m.\u001b[0m\u001b[0mmul_\u001b[0m\u001b[0;34m(\u001b[0m\u001b[0;34m-\u001b[0m\u001b[0;36m1\u001b[0m\u001b[0;34m)\u001b[0m\u001b[0;34m.\u001b[0m\u001b[0madd_\u001b[0m\u001b[0;34m(\u001b[0m\u001b[0;36m1\u001b[0m\u001b[0;34m)\u001b[0m\u001b[0;34m.\u001b[0m\u001b[0madd_\u001b[0m\u001b[0;34m(\u001b[0m\u001b[0mlogvar\u001b[0m\u001b[0;34m)\u001b[0m\u001b[0;34m\u001b[0m\u001b[0;34m\u001b[0m\u001b[0m\n",
      "\u001b[0;31mRuntimeError\u001b[0m: The size of tensor a (64) must match the size of tensor b (16) at non-singleton dimension 3"
     ]
    }
   ],
   "source": [
    "\n",
    "if not os.path.exists('./gal_img1001'):\n",
    "    os.mkdir('./gal_img1001')\n",
    "\n",
    "    \n",
    "dataset= trainlabelDataset()\n",
    "dataloader= DataLoader(dataset=dataset, batch_size=64,shuffle=True)\n",
    "\n",
    "test_dataset = testlabelDataset()\n",
    "test_dataloader= DataLoader(dataset=test_dataset, batch_size=64,shuffle=True)\n",
    "\n",
    "\n",
    "writer = SummaryWriter(\"run1001/exp503\",)  ################################################### change name \n",
    "\n",
    "num_epochs =20000\n",
    "batch_size = 64\n",
    "learning_rate = 5e-1\n",
    "\n",
    "\n",
    "model = vae_501().cuda()   ############################################################## AE model \n",
    "\n",
    "#reconstruction_function = nn.L1Loss()\n",
    "criterion_mean = nn.L1Loss(reduction='mean')\n",
    "criterion_none = nn.L1Loss(reduction='none')\n",
    "\n",
    "def loss_function(recon_x, x, mu, logvar):\n",
    "    \"\"\"\n",
    "    recon_x: generating images\n",
    "    x: origin images\n",
    "    mu: latent mean\n",
    "    logvar: latent log variance\n",
    "    \"\"\"\n",
    "    REC = (criterion_none(recon_x, x) /(x.sum(dim=3).sum(dim=2).sum(dim=1))).mean()\n",
    "    # loss = 0.5 * sum(1 + log(sigma^2) - mu^2 - sigma^2)\n",
    "    KLD_element = mu.pow(2).add_(logvar.exp()).mul_(-1).add_(1).add_(logvar)\n",
    "    KLD = torch.sum(KLD_element).mul_(-0.5)\n",
    "    # KL divergence\n",
    "    return REC + KLD\n",
    "\n",
    "#scheduler \n",
    "optimizer = torch.optim.Adam(model.parameters(), lr=learning_rate, weight_decay=1e-5)\n",
    "scheduler = torch.optim.lr_scheduler.MultiStepLR(optimizer, milestones=[1000,4000], gamma=0.1)\n",
    "\n",
    "\n",
    "\n",
    "\n",
    "for epoch in range(num_epochs):\n",
    "    total_loss = 0.0\n",
    "    total_mse = 0.0 \n",
    "    num_examples = 0.0\n",
    "    test_num_examples=0.0\n",
    "    \n",
    "    \n",
    "    test_total_loss = 0.0    \n",
    "    test_total_mse=0.0\n",
    "    \n",
    "    model.train()\n",
    "    for data in dataloader:\n",
    "        img,label= [x.type(torch.float32).cuda() for x in data]\n",
    "        img = img.view(img.size(0), 1,64,64)\n",
    "\n",
    "        # forward\n",
    "        output, mu, logvar = model(img)\n",
    "        loss = loss_function(output, img, mu, logvar) \n",
    "\n",
    "        \n",
    "        MSE_loss = nn.MSELoss()(output, img)\n",
    "        total_loss += loss.item() * batch_size\n",
    "        total_mse += MSE_loss.item() * batch_size\n",
    "        num_examples += batch_size\n",
    "\n",
    "        \n",
    "        optimizer.zero_grad()\n",
    "    # backward\n",
    "        loss.backward()\n",
    "        optimizer.step()\n",
    "        scheduler.step()\n",
    "        \n",
    "    model.eval()\n",
    "    for data in test_dataloader:\n",
    "        test_img,test_label= [x.type(torch.float32).cuda() for x in data]\n",
    "\n",
    "        test_img = test_img.view(test_img.size(0), 1,64,64)\n",
    "\n",
    "        # forward\n",
    "        test_output, test_mu, test_logvar = model(test_img)\n",
    "        test_loss = test_loss_function(test_output, test_img, test_mu, test_logvar) \n",
    "                \n",
    "       #print(\"output \",output.shape)\n",
    "     #   test_loss = criterion(test_output, test_img)  #  + 1e-5*  criterion(test_z[:,:7], test_label) \n",
    "        \n",
    "        \n",
    "        test_MSE_loss = nn.MSELoss()(test_output, test_img)\n",
    "        test_total_loss += test_loss.item() * batch_size\n",
    "        test_total_mse += test_MSE_loss.item() * batch_size\n",
    "        test_num_examples += batch_size\n",
    "\n",
    "    writer.add_scalar('Loss/train',total_loss / num_examples,epoch)\n",
    "    writer.add_scalar('Mse/train', total_mse / num_examples,epoch)   \n",
    "    writer.add_scalar('Recon/train', total_recon / num_examples,epoch)        \n",
    "    writer.add_scalar('Latent/train', total_latent / num_examples,epoch)        \n",
    "    writer.add_scalar('Loss/test',test_total_loss / test_num_examples,epoch)\n",
    "    writer.add_scalar('Mse/test', test_total_mse / test_num_examples,epoch)\n",
    "    writer.add_scalar('Recon/test', test_total_recon / test_num_examples,epoch)        \n",
    "    writer.add_scalar('Latent/test', test_total_latent / test_num_examples,epoch)   \n",
    "    \n",
    "         \n",
    "    print('epoch [{}/{}], loss:{:.6f}, MSE_loss:{:.6f}, recon_loss:{:.6f}, latent_loss:{:.6f}'\n",
    "          .format(epoch + 1, num_epochs, total_loss / num_examples, total_mse/ num_examples, total_recon / num_examples, total_latent/ num_examples))     \n",
    "    \n",
    "    print('epoch [{}/{}], test_loss:{:.6f}, test_MSE_loss:{:.6f}, test_recon_loss:{:.6f}, test_latent_loss:{:.6f}'\n",
    "          .format(epoch + 1, num_epochs, test_total_loss / num_examples, test_total_mse/ num_examples, test_total_recon / num_examples, test_total_latent/ num_examples))   \n",
    "\n",
    "    if epoch % 10 == 0:\n",
    "        x = to_img(img.cpu().data)\n",
    "        x_hat = to_img(output.cpu().data)\n",
    "        test_x = to_img(test_img.cpu().data)    ########## change name \n",
    "        test_x_hat = to_img(test_output.cpu().data)\n",
    "        torch.save(x, './gal_img1001/exp503_x_{}.pt'.format(epoch))\n",
    "        torch.save(x_hat, './gal_img1001/exp503_x_hat_{}.pt'.format(epoch))\n",
    "        torch.save(test_x, './gal_img1001/exp503_test_x_{}.pt'.format(epoch))\n",
    "        torch.save(test_x_hat, './gal_img1001/exp503_test_x_hat_{}.pt'.format(epoch))\n",
    "        torch.save(model.state_dict(), './gal_img1001/exp503_{}.pth'.format(epoch))     \n"
   ]
  },
  {
   "cell_type": "code",
   "execution_count": null,
   "metadata": {},
   "outputs": [],
   "source": [
    "a=np.zeros((2,2))\n"
   ]
  },
  {
   "cell_type": "code",
   "execution_count": null,
   "metadata": {},
   "outputs": [],
   "source": [
    "1+1"
   ]
  },
  {
   "cell_type": "code",
   "execution_count": 61,
   "metadata": {},
   "outputs": [
    {
     "data": {
      "text/plain": [
       "array([3., 3.])"
      ]
     },
     "execution_count": 61,
     "metadata": {},
     "output_type": "execute_result"
    }
   ],
   "source": [
    "a.sum(axis=0)"
   ]
  },
  {
   "cell_type": "code",
   "execution_count": null,
   "metadata": {},
   "outputs": [],
   "source": []
  }
 ],
 "metadata": {
  "kernelspec": {
   "display_name": "Python 3",
   "language": "python",
   "name": "python3"
  },
  "language_info": {
   "codemirror_mode": {
    "name": "ipython",
    "version": 3
   },
   "file_extension": ".py",
   "mimetype": "text/x-python",
   "name": "python",
   "nbconvert_exporter": "python",
   "pygments_lexer": "ipython3",
   "version": "3.6.8"
  }
 },
 "nbformat": 4,
 "nbformat_minor": 2
}
