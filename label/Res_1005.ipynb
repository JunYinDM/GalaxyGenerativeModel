{
 "cells": [
  {
   "cell_type": "code",
   "execution_count": 5,
   "metadata": {},
   "outputs": [],
   "source": [
    "from __future__ import print_function\n",
    "\n",
    "import matplotlib.pyplot as plt\n",
    "import matplotlib.image as mpimg\n",
    "import numpy as np\n",
    "import torch\n",
    "\n",
    "\n",
    "\n",
    "import os\n",
    "import sys\n",
    "import glob\n",
    "import h5py\n",
    "import numpy as np\n",
    "import math\n",
    "\n",
    "\n",
    "import torch\n",
    "from torch import nn\n",
    "from torch.autograd import Variable\n",
    "from torchvision import transforms\n",
    "from torchvision.utils import save_image\n",
    "from torch.utils.data import Dataset , DataLoader\n",
    "import torch.optim as optim\n",
    "import torch.nn.functional as F\n",
    "import torch.utils.model_zoo as model_zoo\n",
    "from tqdm import tqdm\n",
    "import tensorboard\n",
    "import tensorboardX\n",
    "from torch.utils.tensorboard import SummaryWriter\n",
    "\n",
    "\n",
    "from log import Logger\n",
    "from data import trainlabelDataset, testlabelDataset\n",
    "from util import r2, mse, rmse, mae, pp_mse, pp_rmse, pp_mae\n",
    "from model import  autoencoder_999, autoencoder_333\n",
    "from sklearn.decomposition import PCA\n",
    "device = torch.device(\"cuda:0\" if torch.cuda.is_available() else \"cpu\")\n",
    "\n",
    "\n",
    "def showres(path):\n",
    "    img_data_tensor=torch.load(path)\n",
    "    img_data= img_data_tensor[4].numpy()\n",
    "    img_data.resize(64,64)\n",
    "    plt.imshow(img_data)\n",
    "    return img_data\n",
    "\n",
    "def to_img(x):   # image size 56 * 56 \n",
    "    x = x.view(x.size(0), 1, 64, 64)\n",
    "    return x\n",
    "\n",
    "\n",
    "test_dataset = testlabelDataset()\n",
    "test_dataloader= DataLoader(dataset=test_dataset, batch_size=3000,shuffle=False,drop_last=True)\n",
    "criterion_none = nn.L1Loss(reduction='none')\n"
   ]
  },
  {
   "cell_type": "code",
   "execution_count": 6,
   "metadata": {},
   "outputs": [
    {
     "ename": "RuntimeError",
     "evalue": "CUDA out of memory. Tried to allocate 48.00 MiB (GPU 0; 15.90 GiB total capacity; 10.17 GiB already allocated; 21.88 MiB free; 5.11 MiB cached)",
     "output_type": "error",
     "traceback": [
      "\u001b[0;31m---------------------------------------------------------------------------\u001b[0m",
      "\u001b[0;31mRuntimeError\u001b[0m                              Traceback (most recent call last)",
      "\u001b[0;32m<ipython-input-6-a6aaa4dcd3a8>\u001b[0m in \u001b[0;36m<module>\u001b[0;34m\u001b[0m\n\u001b[1;32m     11\u001b[0m \u001b[0;34m\u001b[0m\u001b[0m\n\u001b[1;32m     12\u001b[0m \u001b[0;32mfor\u001b[0m \u001b[0mdata\u001b[0m \u001b[0;32min\u001b[0m \u001b[0mtest_dataloader\u001b[0m\u001b[0;34m:\u001b[0m\u001b[0;34m\u001b[0m\u001b[0;34m\u001b[0m\u001b[0m\n\u001b[0;32m---> 13\u001b[0;31m     \u001b[0mtest_img\u001b[0m\u001b[0;34m,\u001b[0m\u001b[0mtest_label\u001b[0m\u001b[0;34m=\u001b[0m \u001b[0;34m[\u001b[0m\u001b[0mx\u001b[0m\u001b[0;34m.\u001b[0m\u001b[0mtype\u001b[0m\u001b[0;34m(\u001b[0m\u001b[0mtorch\u001b[0m\u001b[0;34m.\u001b[0m\u001b[0mfloat32\u001b[0m\u001b[0;34m)\u001b[0m\u001b[0;34m.\u001b[0m\u001b[0mcuda\u001b[0m\u001b[0;34m(\u001b[0m\u001b[0;34m)\u001b[0m \u001b[0;32mfor\u001b[0m \u001b[0mx\u001b[0m \u001b[0;32min\u001b[0m \u001b[0mdata\u001b[0m\u001b[0;34m]\u001b[0m\u001b[0;34m\u001b[0m\u001b[0;34m\u001b[0m\u001b[0m\n\u001b[0m\u001b[1;32m     14\u001b[0m     \u001b[0mtest_img\u001b[0m \u001b[0;34m=\u001b[0m \u001b[0mtest_img\u001b[0m\u001b[0;34m.\u001b[0m\u001b[0mview\u001b[0m\u001b[0;34m(\u001b[0m\u001b[0mtest_img\u001b[0m\u001b[0;34m.\u001b[0m\u001b[0msize\u001b[0m\u001b[0;34m(\u001b[0m\u001b[0;36m0\u001b[0m\u001b[0;34m)\u001b[0m\u001b[0;34m,\u001b[0m \u001b[0;36m1\u001b[0m\u001b[0;34m,\u001b[0m\u001b[0;36m64\u001b[0m\u001b[0;34m,\u001b[0m\u001b[0;36m64\u001b[0m\u001b[0;34m)\u001b[0m\u001b[0;34m\u001b[0m\u001b[0;34m\u001b[0m\u001b[0m\n\u001b[1;32m     15\u001b[0m     \u001b[0mtest_output\u001b[0m\u001b[0;34m,\u001b[0m\u001b[0mtest_z\u001b[0m \u001b[0;34m=\u001b[0m \u001b[0mmodel\u001b[0m\u001b[0;34m(\u001b[0m\u001b[0mtest_img\u001b[0m\u001b[0;34m)\u001b[0m\u001b[0;34m\u001b[0m\u001b[0;34m\u001b[0m\u001b[0m\n",
      "\u001b[0;32m<ipython-input-6-a6aaa4dcd3a8>\u001b[0m in \u001b[0;36m<listcomp>\u001b[0;34m(.0)\u001b[0m\n\u001b[1;32m     11\u001b[0m \u001b[0;34m\u001b[0m\u001b[0m\n\u001b[1;32m     12\u001b[0m \u001b[0;32mfor\u001b[0m \u001b[0mdata\u001b[0m \u001b[0;32min\u001b[0m \u001b[0mtest_dataloader\u001b[0m\u001b[0;34m:\u001b[0m\u001b[0;34m\u001b[0m\u001b[0;34m\u001b[0m\u001b[0m\n\u001b[0;32m---> 13\u001b[0;31m     \u001b[0mtest_img\u001b[0m\u001b[0;34m,\u001b[0m\u001b[0mtest_label\u001b[0m\u001b[0;34m=\u001b[0m \u001b[0;34m[\u001b[0m\u001b[0mx\u001b[0m\u001b[0;34m.\u001b[0m\u001b[0mtype\u001b[0m\u001b[0;34m(\u001b[0m\u001b[0mtorch\u001b[0m\u001b[0;34m.\u001b[0m\u001b[0mfloat32\u001b[0m\u001b[0;34m)\u001b[0m\u001b[0;34m.\u001b[0m\u001b[0mcuda\u001b[0m\u001b[0;34m(\u001b[0m\u001b[0;34m)\u001b[0m \u001b[0;32mfor\u001b[0m \u001b[0mx\u001b[0m \u001b[0;32min\u001b[0m \u001b[0mdata\u001b[0m\u001b[0;34m]\u001b[0m\u001b[0;34m\u001b[0m\u001b[0;34m\u001b[0m\u001b[0m\n\u001b[0m\u001b[1;32m     14\u001b[0m     \u001b[0mtest_img\u001b[0m \u001b[0;34m=\u001b[0m \u001b[0mtest_img\u001b[0m\u001b[0;34m.\u001b[0m\u001b[0mview\u001b[0m\u001b[0;34m(\u001b[0m\u001b[0mtest_img\u001b[0m\u001b[0;34m.\u001b[0m\u001b[0msize\u001b[0m\u001b[0;34m(\u001b[0m\u001b[0;36m0\u001b[0m\u001b[0;34m)\u001b[0m\u001b[0;34m,\u001b[0m \u001b[0;36m1\u001b[0m\u001b[0;34m,\u001b[0m\u001b[0;36m64\u001b[0m\u001b[0;34m,\u001b[0m\u001b[0;36m64\u001b[0m\u001b[0;34m)\u001b[0m\u001b[0;34m\u001b[0m\u001b[0;34m\u001b[0m\u001b[0m\n\u001b[1;32m     15\u001b[0m     \u001b[0mtest_output\u001b[0m\u001b[0;34m,\u001b[0m\u001b[0mtest_z\u001b[0m \u001b[0;34m=\u001b[0m \u001b[0mmodel\u001b[0m\u001b[0;34m(\u001b[0m\u001b[0mtest_img\u001b[0m\u001b[0;34m)\u001b[0m\u001b[0;34m\u001b[0m\u001b[0;34m\u001b[0m\u001b[0m\n",
      "\u001b[0;31mRuntimeError\u001b[0m: CUDA out of memory. Tried to allocate 48.00 MiB (GPU 0; 15.90 GiB total capacity; 10.17 GiB already allocated; 21.88 MiB free; 5.11 MiB cached)"
     ]
    }
   ],
   "source": [
    "num=840\n",
    "\n",
    "\n",
    "#batch_size = 64\n",
    "#learning_rate = 1e-4\n",
    "#weight=5e4\n",
    "\n",
    "model = autoencoder_333().cuda()   ###### AE model \n",
    "model.load_state_dict(torch.load('gal_img1001/exp472_{}.pth'.format(num)))    \n",
    "model.eval()\n",
    "\n",
    "for data in test_dataloader:\n",
    "    test_img,test_label= [x.type(torch.float32).cuda() for x in data]\n",
    "    test_img = test_img.view(test_img.size(0), 1,64,64)\n",
    "    test_output,test_z = model(test_img)\n",
    "    test_z=test_z.view(test_z.size(0),14*14)\n",
    "    \n",
    " #   test_loss= (( criterion_none(test_output, test_img)/(test_img.sum(dim=3).sum(dim=2).sum(dim=1))).mean())  + (criterion_none(test_z[:,:7], test_label)  /weight).mean() \n",
    "        \n",
    "#    test_loss_recon= (( criterion_none(test_output, test_img)/(test_img.sum(dim=3).sum(dim=2).sum(dim=1))).mean()) \n",
    " #   test_loss_latent= (criterion_none(test_z[:,:7], test_label)  /weight).mean() \n",
    "        \n",
    " #   test_MSE_loss = nn.MSELoss()(test_output, test_img)\n",
    "  \n",
    "\n",
    "    \n",
    "\n",
    "\n",
    "\n",
    "res_in =  test_img.data.cpu().numpy()   \n",
    "res_out=test_output.data.cpu().numpy()\n",
    "\n"
   ]
  },
  {
   "cell_type": "code",
   "execution_count": 1,
   "metadata": {},
   "outputs": [
    {
     "ename": "NameError",
     "evalue": "name 'test_img' is not defined",
     "output_type": "error",
     "traceback": [
      "\u001b[0;31m---------------------------------------------------------------------------\u001b[0m",
      "\u001b[0;31mNameError\u001b[0m                                 Traceback (most recent call last)",
      "\u001b[0;32m<ipython-input-1-43b7d65e97b3>\u001b[0m in \u001b[0;36m<module>\u001b[0;34m\u001b[0m\n\u001b[0;32m----> 1\u001b[0;31m \u001b[0mtest_img\u001b[0m\u001b[0;34m.\u001b[0m\u001b[0mshape\u001b[0m\u001b[0;34m\u001b[0m\u001b[0;34m\u001b[0m\u001b[0m\n\u001b[0m",
      "\u001b[0;31mNameError\u001b[0m: name 'test_img' is not defined"
     ]
    }
   ],
   "source": [
    "test_img.shape"
   ]
  },
  {
   "cell_type": "code",
   "execution_count": null,
   "metadata": {},
   "outputs": [],
   "source": [
    "img_in=res_in[40][0]\n",
    "img_out=res_out[40][0]\n",
    "\n",
    "plt.subplot(1, 3, 1)\n",
    "plt.imshow(img_in)\n",
    "plt.subplot(1, 3, 2)  \n",
    "plt.imshow(img_out) \n",
    "plt.subplot(1, 3, 3) \n",
    "plt.imshow(img_in-img_out) \n",
    "plt.colorbar()"
   ]
  },
  {
   "cell_type": "code",
   "execution_count": null,
   "metadata": {},
   "outputs": [],
   "source": []
  },
  {
   "cell_type": "code",
   "execution_count": null,
   "metadata": {},
   "outputs": [],
   "source": [
    "plt.subplot(1, 3, 1)\n",
    "a1=showres('gal_img1001/exp472_test_x_840.pt')\n",
    "plt.subplot(1, 3, 2)\n",
    "a2=showres('gal_img1001/exp472_test_x_hat_840.pt') \n",
    "plt.subplot(1, 3, 3) \n",
    "plt.imshow(a1-a2)\n",
    "plt.colorbar()"
   ]
  },
  {
   "cell_type": "code",
   "execution_count": null,
   "metadata": {},
   "outputs": [],
   "source": []
  },
  {
   "cell_type": "code",
   "execution_count": null,
   "metadata": {},
   "outputs": [],
   "source": [
    "plt.subplot(1, 3, 1)\n",
    "a1=showres('gal_img1001/exp505_test_x_10.pt')\n",
    "plt.subplot(1, 3, 2)\n",
    "a2=showres('gal_img1001/exp505_test_x_hat_10.pt') \n",
    "plt.subplot(1, 3, 3) \n",
    "plt.imshow(a1-a2)\n",
    "plt.colorbar()"
   ]
  },
  {
   "cell_type": "code",
   "execution_count": null,
   "metadata": {},
   "outputs": [],
   "source": []
  },
  {
   "cell_type": "code",
   "execution_count": null,
   "metadata": {},
   "outputs": [],
   "source": []
  },
  {
   "cell_type": "code",
   "execution_count": null,
   "metadata": {},
   "outputs": [],
   "source": [
    "plt.subplot(1, 3, 1)\n",
    "a1=showres('gal_img1001/exp462_test_x_1670.pt')\n",
    "plt.subplot(1, 3, 2)\n",
    "a2=showres('gal_img1001/exp462_test_x_hat_1670.pt') \n",
    "plt.subplot(1, 3, 3) \n",
    "plt.imshow(a1-a2)\n",
    "plt.colorbar()"
   ]
  },
  {
   "cell_type": "code",
   "execution_count": null,
   "metadata": {},
   "outputs": [],
   "source": []
  },
  {
   "cell_type": "code",
   "execution_count": null,
   "metadata": {},
   "outputs": [],
   "source": [
    "plt.subplot(1, 3, 1)\n",
    "a1=showres('gal_img1001/exp441_test_x_1200.pt')\n",
    "plt.subplot(1, 3, 2)\n",
    "a2=showres('gal_img1001/exp441_test_x_hat_1200.pt') \n",
    "plt.subplot(1, 3, 3) \n",
    "plt.imshow(a1-a2)\n",
    "plt.colorbar()"
   ]
  },
  {
   "cell_type": "code",
   "execution_count": null,
   "metadata": {},
   "outputs": [],
   "source": [
    "plt.subplot(1, 3, 1)\n",
    "a1=showres('gal_img1001/exp462_test_x_800.pt')\n",
    "plt.subplot(1, 3, 2)\n",
    "a2=showres('gal_img1001/exp462_test_x_hat_800.pt') \n",
    "plt.subplot(1, 3, 3) \n",
    "plt.imshow(a1-a2)\n",
    "plt.colorbar()"
   ]
  },
  {
   "cell_type": "code",
   "execution_count": null,
   "metadata": {},
   "outputs": [],
   "source": []
  },
  {
   "cell_type": "code",
   "execution_count": null,
   "metadata": {},
   "outputs": [],
   "source": []
  },
  {
   "cell_type": "code",
   "execution_count": null,
   "metadata": {},
   "outputs": [],
   "source": []
  },
  {
   "cell_type": "code",
   "execution_count": null,
   "metadata": {},
   "outputs": [],
   "source": [
    "plt.subplot(1, 3, 1)\n",
    "a1=showres('gal_img1001/exp414_test_x_2000.pt')\n",
    "plt.subplot(1, 3, 2)\n",
    "a2=showres('gal_img1001/exp414_test_x_hat_2000.pt') \n",
    "plt.subplot(1, 3, 3) \n",
    "plt.imshow(a1-a2)\n",
    "plt.colorbar()"
   ]
  },
  {
   "cell_type": "code",
   "execution_count": null,
   "metadata": {},
   "outputs": [],
   "source": [
    "plt.subplot(1, 3, 1)\n",
    "a1=showres('gal_img1001/exp416_test_x_900.pt')\n",
    "plt.subplot(1, 3, 2)\n",
    "a2=showres('gal_img1001/exp416_test_x_hat_900.pt') \n",
    "plt.subplot(1, 3, 3) \n",
    "plt.imshow(a1-a2)\n",
    "plt.colorbar()"
   ]
  },
  {
   "cell_type": "code",
   "execution_count": null,
   "metadata": {},
   "outputs": [],
   "source": []
  },
  {
   "cell_type": "code",
   "execution_count": null,
   "metadata": {},
   "outputs": [],
   "source": []
  },
  {
   "cell_type": "code",
   "execution_count": null,
   "metadata": {},
   "outputs": [],
   "source": []
  },
  {
   "cell_type": "code",
   "execution_count": null,
   "metadata": {},
   "outputs": [],
   "source": [
    "plt.subplot(1, 3, 1)\n",
    "a1=showres('gal_img1001/exp413_test_x_4900.pt')\n",
    "plt.subplot(1, 3, 2)\n",
    "a2=showres('gal_img1001/exp413_test_x_hat_4900.pt') \n",
    "plt.subplot(1, 3, 3) \n",
    "plt.imshow(a1-a2)\n",
    "plt.colorbar()"
   ]
  },
  {
   "cell_type": "code",
   "execution_count": null,
   "metadata": {},
   "outputs": [],
   "source": [
    "plt.subplot(1, 3, 1)\n",
    "a1=showres('gal_img1001/exp423_test_x_100.pt')\n",
    "plt.subplot(1, 3, 2)\n",
    "a2=showres('gal_img1001/exp423_test_x_hat_100.pt') \n",
    "plt.subplot(1, 3, 3) \n",
    "plt.imshow(a1-a2)\n",
    "plt.colorbar()"
   ]
  },
  {
   "cell_type": "code",
   "execution_count": null,
   "metadata": {},
   "outputs": [],
   "source": [
    "plt.subplot(1, 3, 1)\n",
    "a1=showres('gal_img1001/exp601_test_x_8800.pt')\n",
    "plt.subplot(1, 3, 2)\n",
    "a2=showres('gal_img1001/exp601_test_x_hat_8800.pt') \n",
    "plt.subplot(1, 3, 3) \n",
    "plt.imshow(a1-a2)\n",
    "plt.colorbar()"
   ]
  },
  {
   "cell_type": "code",
   "execution_count": null,
   "metadata": {},
   "outputs": [],
   "source": [
    "plt.subplot(1, 3, 1)\n",
    "a1=showres('gal_img1001/exp451_test_x_3000.pt')\n",
    "plt.subplot(1, 3, 2)\n",
    "a2=showres('gal_img1001/exp451_test_x_hat_3000.pt') \n",
    "plt.subplot(1, 3, 3) \n",
    "plt.imshow(a1-a2)\n",
    "plt.colorbar()"
   ]
  },
  {
   "cell_type": "code",
   "execution_count": null,
   "metadata": {},
   "outputs": [],
   "source": [
    "plt.subplot(1, 3, 1)\n",
    "a1=showres('gal_img1001/exp651_test_x_6000.pt')\n",
    "plt.subplot(1, 3, 2)\n",
    "a2=showres('gal_img1001/exp651_test_x_hat_6000.pt') \n",
    "plt.subplot(1, 3, 3) \n",
    "plt.imshow(a1-a2)\n",
    "plt.colorbar()"
   ]
  },
  {
   "cell_type": "code",
   "execution_count": null,
   "metadata": {},
   "outputs": [],
   "source": []
  },
  {
   "cell_type": "code",
   "execution_count": null,
   "metadata": {},
   "outputs": [],
   "source": []
  },
  {
   "cell_type": "code",
   "execution_count": null,
   "metadata": {},
   "outputs": [],
   "source": []
  },
  {
   "cell_type": "code",
   "execution_count": null,
   "metadata": {},
   "outputs": [],
   "source": []
  },
  {
   "cell_type": "code",
   "execution_count": null,
   "metadata": {},
   "outputs": [],
   "source": []
  },
  {
   "cell_type": "code",
   "execution_count": null,
   "metadata": {},
   "outputs": [],
   "source": []
  },
  {
   "cell_type": "code",
   "execution_count": null,
   "metadata": {},
   "outputs": [],
   "source": []
  },
  {
   "cell_type": "code",
   "execution_count": null,
   "metadata": {},
   "outputs": [],
   "source": []
  },
  {
   "cell_type": "code",
   "execution_count": null,
   "metadata": {},
   "outputs": [],
   "source": []
  },
  {
   "cell_type": "code",
   "execution_count": null,
   "metadata": {},
   "outputs": [],
   "source": [
    "num=100\n",
    "model = autoencoder_999().cuda()   ###### AE model \n",
    "model.load_state_dict(torch.load('gal_img1001/exp202_{}.pth'.format(num)))    \n",
    "model.eval()\n",
    "\n",
    "\n",
    "for data in test_dataloader:\n",
    "    test_img_ = data\n",
    "    test_img = test_img_.type(torch.float32)\n",
    "    test_img = test_img.view(test_img.size(0), 1,64,64)\n",
    "    test_img = test_img.cuda()\n",
    "    test_img_output, _= model(test_img)\n",
    "\n",
    "    test_latent = model.encoder(test_img)   #latent \n",
    "    \n",
    "test_img_hat=test_img_output.data.cpu().numpy()\n",
    "\n"
   ]
  },
  {
   "cell_type": "code",
   "execution_count": null,
   "metadata": {},
   "outputs": [],
   "source": [
    "torch.cuda.empty_cache()"
   ]
  },
  {
   "cell_type": "code",
   "execution_count": null,
   "metadata": {},
   "outputs": [],
   "source": [
    "test_img.shape"
   ]
  },
  {
   "cell_type": "code",
   "execution_count": null,
   "metadata": {},
   "outputs": [],
   "source": [
    "plt.subplot(1, 3, 1)\n",
    "plt.imshow(test_img_hat[0])\n",
    "plt.subplot(1, 3, 2)\n",
    "plt.imshow(test_img_[0])\n",
    "plt.subplot(1, 3, 3) \n",
    "plt.imshow(a1-a2)"
   ]
  },
  {
   "cell_type": "code",
   "execution_count": null,
   "metadata": {},
   "outputs": [],
   "source": []
  },
  {
   "cell_type": "code",
   "execution_count": null,
   "metadata": {},
   "outputs": [],
   "source": [
    "num=1000\n",
    "model = autoencoder_333().cuda()   ###### AE model \n",
    "model.load_state_dict(torch.load('gal_img1001/exp205_{}.pth'.format(num)))    \n",
    "model.eval()\n",
    "\n",
    "\n",
    "for data in test_dataloader:\n",
    "    test_img_ = data\n",
    "    test_img = test_img_.type(torch.float32)\n",
    "    test_img = test_img.view(test_img.size(0), 1,64,64)\n",
    "    test_img = test_img.cuda()\n",
    "    test_img_output,_= model(test_img)\n",
    "    test_latent = model.encoder(test_img)   #latent \n",
    "    \n",
    "\n",
    "#x=(test_img.view(test_img.size(0),64,64)).data.cpu().numpy()\n",
    "#x_hat=(test_img_output.view(test_img.size(0),64,64)).data.cpu().numpy()\n"
   ]
  },
  {
   "cell_type": "code",
   "execution_count": null,
   "metadata": {},
   "outputs": [],
   "source": [
    "f = h5py.File('test.h5','r')\n",
    "img = f['img'][:]\n",
    "gal_flux = f['gal_flux'][:]\n",
    "bulge_re = f['bulge_re'][:]\n",
    "disk_n = f['disk_n'][:]\n",
    "disk_r0 = f['disk_r0'][:]\n",
    "bulge_frac= f['bulge_frac'][:]\n",
    "gal_q = f['gal_q'][:]\n",
    "gal_beta = f['gal_beta'][:]\n",
    "\n",
    "f.close()\n"
   ]
  },
  {
   "cell_type": "code",
   "execution_count": null,
   "metadata": {},
   "outputs": [],
   "source": [
    "b=img[0].max()\n",
    "for i in range(3000): \n",
    "    if img[i].max() > b: \n",
    "        b=img[i].max()\n",
    "    else: \n",
    "        b=b\n",
    "        \n",
    "    \n",
    "\n"
   ]
  },
  {
   "cell_type": "code",
   "execution_count": null,
   "metadata": {},
   "outputs": [],
   "source": [
    "b/1e6"
   ]
  },
  {
   "cell_type": "code",
   "execution_count": null,
   "metadata": {},
   "outputs": [],
   "source": []
  }
 ],
 "metadata": {
  "kernelspec": {
   "display_name": "Python 3",
   "language": "python",
   "name": "python3"
  },
  "language_info": {
   "codemirror_mode": {
    "name": "ipython",
    "version": 3
   },
   "file_extension": ".py",
   "mimetype": "text/x-python",
   "name": "python",
   "nbconvert_exporter": "python",
   "pygments_lexer": "ipython3",
   "version": "3.6.8"
  }
 },
 "nbformat": 4,
 "nbformat_minor": 2
}
